{
 "cells": [
  {
   "cell_type": "code",
   "execution_count": 1,
   "id": "65eb9fb3",
   "metadata": {},
   "outputs": [],
   "source": [
    "from qiskit import *\n",
    "import numpy as np\n",
    "%matplotlib inline"
   ]
  },
  {
   "cell_type": "code",
   "execution_count": 16,
   "id": "1808529e",
   "metadata": {},
   "outputs": [
    {
     "data": {
      "image/png": "[encoded data removed]",
      "text/plain": [
       "<Figure size 447.797x385.28 with 1 Axes>"
      ]
     },
     "execution_count": 16,
     "metadata": {},
     "output_type": "execute_result"
    }
   ],
   "source": [
    "qc = QuantumCircuit(6)\n",
    "#qc.h([3,4,5])\n",
    "\n",
    "initial_state = [(1/np.sqrt(8)),(1/np.sqrt(8)),(1/np.sqrt(8)),(1/np.sqrt(8)),\n",
    "                 (1/np.sqrt(8)),(1/np.sqrt(8)),(1/np.sqrt(8)),(1/np.sqrt(8))]\n",
    "qc.initialize(initial_state,[0,1,2])\n",
    "\n",
    "\n",
    "qc.draw(output='mpl')\n",
    "#Final statevector should be (1/8)^(1/2)[11111111]"
   ]
  },
  {
   "cell_type": "code",
   "execution_count": 17,
   "id": "7c13051f",
   "metadata": {},
   "outputs": [
    {
     "data": {
      "text/latex": [
       "$$\n",
       "\\text{Statevector = }\n",
       "\\begin{bmatrix}\n",
       "\\tfrac{1}{\\sqrt{8}} & \\tfrac{1}{\\sqrt{8}} & \\tfrac{1}{\\sqrt{8}} & \\tfrac{1}{\\sqrt{8}} & \\cdots & 0 & 0 & 0  \\\\\n",
       " \\end{bmatrix}\n",
       "$$"
      ],
      "text/plain": [
       "<IPython.core.display.Latex object>"
      ]
     },
     "execution_count": 17,
     "metadata": {},
     "output_type": "execute_result"
    }
   ],
   "source": [
    "sim = Aer.get_backend('aer_simulator')\n",
    "qc.save_statevector()\n",
    "state_vector = sim.run(qc).result().get_statevector()\n",
    "visualization.array_to_latex(state_vector, prefix='\\\\text{Statevector = }')"
   ]
  },
  {
   "cell_type": "code",
   "execution_count": 18,
   "id": "72817485",
   "metadata": {},
   "outputs": [
    {
     "name": "stdout",
     "output_type": "stream",
     "text": [
      "[0.35355339+0.j 0.35355339+0.j 0.35355339+0.j 0.35355339+0.j\n",
      " 0.35355339+0.j 0.35355339+0.j 0.35355339+0.j 0.35355339+0.j\n",
      " 0.        +0.j 0.        +0.j 0.        +0.j 0.        +0.j\n",
      " 0.        +0.j 0.        +0.j 0.        +0.j 0.        +0.j\n",
      " 0.        +0.j 0.        +0.j 0.        +0.j 0.        +0.j\n",
      " 0.        +0.j 0.        +0.j 0.        +0.j 0.        +0.j\n",
      " 0.        +0.j 0.        +0.j 0.        +0.j 0.        +0.j\n",
      " 0.        +0.j 0.        +0.j 0.        +0.j 0.        +0.j\n",
      " 0.        +0.j 0.        +0.j 0.        +0.j 0.        +0.j\n",
      " 0.        +0.j 0.        +0.j 0.        +0.j 0.        +0.j\n",
      " 0.        +0.j 0.        +0.j 0.        +0.j 0.        +0.j\n",
      " 0.        +0.j 0.        +0.j 0.        +0.j 0.        +0.j\n",
      " 0.        +0.j 0.        +0.j 0.        +0.j 0.        +0.j\n",
      " 0.        +0.j 0.        +0.j 0.        +0.j 0.        +0.j\n",
      " 0.        +0.j 0.        +0.j 0.        +0.j 0.        +0.j\n",
      " 0.        +0.j 0.        +0.j 0.        +0.j 0.        +0.j]\n"
     ]
    }
   ],
   "source": [
    "print(state_vector)"
   ]
  },
  {
   "cell_type": "code",
   "execution_count": 5,
   "id": "b5d39846",
   "metadata": {},
   "outputs": [
    {
     "data": {
      "image/png": "[encoded data removed]",
      "text/plain": [
       "<Figure size 146.652x144.48 with 1 Axes>"
      ]
     },
     "execution_count": 5,
     "metadata": {},
     "output_type": "execute_result"
    }
   ],
   "source": [
    "#Single qubit gates on multiqubit system\n",
    "qc = QuantumCircuit(2)\n",
    "qc.h(0)\n",
    "qc.x(1)\n",
    "qc.draw(output='mpl')\n",
    "#Look at notes for math"
   ]
  },
  {
   "cell_type": "code",
   "execution_count": 21,
   "id": "aed436e9",
   "metadata": {},
   "outputs": [
    {
     "data": {
      "image/png": "[encoded data removed]",
      "text/plain": [
       "<Figure size 206.852x144.48 with 1 Axes>"
      ]
     },
     "execution_count": 21,
     "metadata": {},
     "output_type": "execute_result"
    }
   ],
   "source": [
    "#CNOT! with Superposition\n",
    "qc = QuantumCircuit(2)\n",
    "qc.h(0)\n",
    "qc.cx(0,1)\n",
    "qc.draw(output=\"mpl\")"
   ]
  },
  {
   "cell_type": "code",
   "execution_count": 22,
   "id": "22b39ee8",
   "metadata": {},
   "outputs": [
    {
     "data": {
      "text/latex": [
       "$$\n",
       "\\text{Statevector = }\n",
       "\\begin{bmatrix}\n",
       "\\tfrac{1}{\\sqrt{2}} & 0 & 0 & \\tfrac{1}{\\sqrt{2}}  \\\\\n",
       " \\end{bmatrix}\n",
       "$$"
      ],
      "text/plain": [
       "<IPython.core.display.Latex object>"
      ]
     },
     "execution_count": 22,
     "metadata": {},
     "output_type": "execute_result"
    }
   ],
   "source": [
    "sim = Aer.get_backend('aer_simulator')\n",
    "qc.save_statevector()\n",
    "result = sim.run(qc).result()\n",
    "state_vector = result.get_statevector()\n",
    "visualization.array_to_latex(state_vector, prefix='\\\\text{Statevector = }')"
   ]
  },
  {
   "cell_type": "code",
   "execution_count": 24,
   "id": "94a87512",
   "metadata": {},
   "outputs": [
    {
     "data": {
      "image/png": "[encoded data removed]",
      "text/plain": [
       "<Figure size 504x360 with 1 Axes>"
      ]
     },
     "execution_count": 24,
     "metadata": {},
     "output_type": "execute_result"
    }
   ],
   "source": [
    "#This is a Bell state!\n",
    "visualization.plot_histogram(result.get_counts())"
   ]
  },
  {
   "cell_type": "markdown",
   "id": "a5625e1c",
   "metadata": {},
   "source": [
    "### Phase Kickback"
   ]
  },
  {
   "cell_type": "code",
   "execution_count": 27,
   "id": "d70ed8e4",
   "metadata": {},
   "outputs": [
    {
     "data": {
      "image/png": "[encoded data removed]",
      "text/plain": [
       "<Figure size 206.852x144.48 with 1 Axes>"
      ]
     },
     "metadata": {},
     "output_type": "display_data"
    },
    {
     "data": {
      "text/latex": [
       "$$\n",
       "\\text{Statevector = }\n",
       "\\begin{bmatrix}\n",
       "\\tfrac{1}{2} & \\tfrac{1}{2} & \\tfrac{1}{2} & \\tfrac{1}{2}  \\\\\n",
       " \\end{bmatrix}\n",
       "$$"
      ],
      "text/plain": [
       "<IPython.core.display.Latex object>"
      ]
     },
     "execution_count": 27,
     "metadata": {},
     "output_type": "execute_result"
    }
   ],
   "source": [
    "#Exploring CNOT!\n",
    "#What about two superpositions \n",
    "qc = QuantumCircuit(2)\n",
    "qc.h([0,1])\n",
    "qc.cx(0,1)\n",
    "display(qc.draw(output=\"mpl\"))\n",
    "\n",
    "sim = Aer.get_backend('aer_simulator')\n",
    "qc.save_statevector()\n",
    "result = sim.run(qc).result()\n",
    "state_vector = result.get_statevector()\n",
    "visualization.array_to_latex(state_vector, prefix='\\\\text{Statevector = }')"
   ]
  },
  {
   "cell_type": "code",
   "execution_count": 29,
   "id": "b336d657",
   "metadata": {},
   "outputs": [
    {
     "data": {
      "image/png": "[encoded data removed]",
      "text/plain": [
       "<Figure size 206.852x144.48 with 1 Axes>"
      ]
     },
     "metadata": {},
     "output_type": "display_data"
    },
    {
     "data": {
      "text/latex": [
       "$$\n",
       "\\text{Statevector = }\n",
       "\\begin{bmatrix}\n",
       "\\tfrac{1}{2} & \\tfrac{1}{2} & -\\tfrac{1}{2} & -\\tfrac{1}{2}  \\\\\n",
       " \\end{bmatrix}\n",
       "$$"
      ],
      "text/plain": [
       "<IPython.core.display.Latex object>"
      ]
     },
     "execution_count": 29,
     "metadata": {},
     "output_type": "execute_result"
    }
   ],
   "source": [
    "#What about |->\n",
    "qc = QuantumCircuit(2)\n",
    "qc.h(0)\n",
    "qc.x(1)\n",
    "qc.h(1)\n",
    "#qc.cx(0,1)\n",
    "display(qc.draw(output=\"mpl\"))\n",
    "\n",
    "sim = Aer.get_backend('aer_simulator')\n",
    "qc.save_statevector()\n",
    "result = sim.run(qc).result()\n",
    "state_vector = result.get_statevector()\n",
    "visualization.array_to_latex(state_vector, prefix='\\\\text{Statevector = }')"
   ]
  },
  {
   "cell_type": "code",
   "execution_count": null,
   "id": "e4e86c58",
   "metadata": {},
   "outputs": [],
   "source": []
  }
 ],
 "metadata": {
  "kernelspec": {
   "display_name": "Python 3 (ipykernel)",
   "language": "python",
   "name": "python3"
  },
  "language_info": {
   "codemirror_mode": {
    "name": "ipython",
    "version": 3
   },
   "file_extension": ".py",
   "mimetype": "text/x-python",
   "name": "python",
   "nbconvert_exporter": "python",
   "pygments_lexer": "ipython3",
   "version": "3.9.6"
  }
 },
 "nbformat": 4,
 "nbformat_minor": 5
}
