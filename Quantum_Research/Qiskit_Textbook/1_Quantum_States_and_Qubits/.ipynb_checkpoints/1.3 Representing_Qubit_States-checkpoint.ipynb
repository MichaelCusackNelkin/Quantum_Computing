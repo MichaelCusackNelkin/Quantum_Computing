{
 "cells": [
  {
   "cell_type": "code",
   "execution_count": 74,
   "id": "9f111af3",
   "metadata": {},
   "outputs": [],
   "source": [
    "import qiskit\n",
    "import qiskit.visualization\n",
    "import math\n",
    "import numpy as np\n",
    "import matplotlib.pyplot as plt\n",
    "import cmath\n",
    "%matplotlib inline"
   ]
  },
  {
   "cell_type": "markdown",
   "id": "5c6387ef",
   "metadata": {},
   "source": [
    "### Using StateVectors"
   ]
  },
  {
   "cell_type": "code",
   "execution_count": 28,
   "id": "a0e13778",
   "metadata": {},
   "outputs": [
    {
     "data": {
      "image/png": "[encoded data removed]",
      "text/plain": [
       "<Figure size 133.526x84.28 with 1 Axes>"
      ]
     },
     "execution_count": 28,
     "metadata": {},
     "output_type": "execute_result"
    }
   ],
   "source": [
    "qc = qiskit.QuantumCircuit(1)\n",
    "initial_state = [0,1] #This is the statevector for [0,1] or |1>\n",
    "qc.initialize(initial_state,0)\n",
    "qc.draw(output = 'mpl')"
   ]
  },
  {
   "cell_type": "code",
   "execution_count": 29,
   "id": "a28d195e",
   "metadata": {},
   "outputs": [
    {
     "name": "stdout",
     "output_type": "stream",
     "text": [
      "[0.+0.j 1.+0.j]\n"
     ]
    }
   ],
   "source": [
    "#Simulate and see the state of q0\n",
    "sim = qiskit.Aer.get_backend('aer_simulator')\n",
    "qc.save_statevector()\n",
    "q_obj = qiskit.assemble(qc)\n",
    "\n",
    "result = sim.run(q_obj).result()\n",
    "final_state = result.get_statevector()\n",
    "print(final_state)"
   ]
  },
  {
   "cell_type": "code",
   "execution_count": 33,
   "id": "c3c9639c",
   "metadata": {},
   "outputs": [
    {
     "data": {
      "image/png": "[encoded data removed]",
      "text/plain": [
       "<Figure size 504x360 with 1 Axes>"
      ]
     },
     "execution_count": 33,
     "metadata": {},
     "output_type": "execute_result"
    }
   ],
   "source": [
    "#try measuring\n",
    "qc = qiskit.QuantumCircuit(1)\n",
    "initial_state = [0,1] #This is the statevector for [0,1] or |1>\n",
    "qc.initialize(initial_state,0)\n",
    "qc.measure_all()\n",
    "qc.draw(output = 'mpl')\n",
    "\n",
    "q_obj = qiskit.assemble(qc)\n",
    "result = sim.run(q_obj).result()\n",
    "counts = result.get_counts()\n",
    "qiskit.visualization.plot_histogram(counts)"
   ]
  },
  {
   "cell_type": "code",
   "execution_count": 78,
   "id": "c64b1018",
   "metadata": {},
   "outputs": [
    {
     "name": "stdout",
     "output_type": "stream",
     "text": [
      "final state is:  [0.57735027+0.j         0.        +0.81649658j]\n"
     ]
    },
    {
     "data": {
      "image/png": "[encoded data removed]",
      "text/plain": [
       "<Figure size 504x360 with 1 Axes>"
      ]
     },
     "execution_count": 78,
     "metadata": {},
     "output_type": "execute_result"
    }
   ],
   "source": [
    "#Lets try a different initial state\n",
    "qc = qiskit.QuantumCircuit(1)\n",
    "initial_state = [1/np.sqrt(3), complex(0,np.sqrt(2))/np.sqrt(3)]\n",
    "qc.initialize(initial_state,0)\n",
    "#qc.measure_all()\n",
    "\n",
    "#Sim and get result\n",
    "sim = qiskit.Aer.get_backend('aer_simulator')\n",
    "qc.save_statevector()\n",
    "q_obj = qiskit.assemble(qc)\n",
    "result = sim.run(q_obj).result()\n",
    "\n",
    "print('final state is: ', result.get_statevector())\n",
    "\n",
    "counts = result.get_counts()\n",
    "qiskit.visualization.plot_histogram(counts)"
   ]
  },
  {
   "cell_type": "code",
   "execution_count": 79,
   "id": "d5d06f22",
   "metadata": {},
   "outputs": [
    {
     "data": {
      "image/png": "[encoded data removed]",
      "text/plain": [
       "<Figure size 253.926x84.28 with 1 Axes>"
      ]
     },
     "execution_count": 79,
     "metadata": {},
     "output_type": "execute_result"
    }
   ],
   "source": [
    "qc.draw(output = 'mpl')"
   ]
  },
  {
   "cell_type": "code",
   "execution_count": null,
   "id": "75a2f652",
   "metadata": {},
   "outputs": [],
   "source": []
  },
  {
   "cell_type": "code",
   "execution_count": null,
   "id": "7739f01b",
   "metadata": {},
   "outputs": [],
   "source": []
  }
 ],
 "metadata": {
  "kernelspec": {
   "display_name": "Python 3 (ipykernel)",
   "language": "python",
   "name": "python3"
  },
  "language_info": {
   "codemirror_mode": {
    "name": "ipython",
    "version": 3
   },
   "file_extension": ".py",
   "mimetype": "text/x-python",
   "name": "python",
   "nbconvert_exporter": "python",
   "pygments_lexer": "ipython3",
   "version": "3.9.6"
  }
 },
 "nbformat": 4,
 "nbformat_minor": 5
}
