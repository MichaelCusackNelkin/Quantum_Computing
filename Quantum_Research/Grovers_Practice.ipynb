{
 "cells": [
  {
   "cell_type": "code",
   "execution_count": 1,
   "id": "2152d875",
   "metadata": {},
   "outputs": [],
   "source": [
    "my_list = [1,3,5,2,6,4,7,8,0,9]\n",
    "\n",
    "def oracle(my_input):\n",
    "    winner = 7\n",
    "    if my_input is winner:\n",
    "        response = True\n",
    "    else:\n",
    "        response = False\n",
    "    return response"
   ]
  },
  {
   "cell_type": "code",
   "execution_count": 2,
   "id": "aaa4fe06",
   "metadata": {},
   "outputs": [
    {
     "name": "stdout",
     "output_type": "stream",
     "text": [
      "Found the winner at index 6\n",
      "Used 7 calls to the Oracle\n"
     ]
    }
   ],
   "source": [
    "for i, n, in enumerate(my_list):\n",
    "    if oracle(n) == True:\n",
    "        print(\"Found the winner at index %i\"%i)\n",
    "        print(\"Used %i calls to the Oracle\"%(i+1))\n",
    "        break"
   ]
  },
  {
   "cell_type": "code",
   "execution_count": 2,
   "id": "63d5cba2",
   "metadata": {},
   "outputs": [],
   "source": [
    "from qiskit import *\n",
    "import numpy as np\n",
    "import matplotlib\n",
    "%matplotlib inline"
   ]
  },
  {
   "cell_type": "code",
   "execution_count": 6,
   "id": "728c0e3b",
   "metadata": {},
   "outputs": [
    {
     "data": {
      "image/png": "[encoded data removed]",
      "text/plain": [
       "<Figure size 146.652x144.48 with 1 Axes>"
      ]
     },
     "execution_count": 6,
     "metadata": {},
     "output_type": "execute_result"
    }
   ],
   "source": [
    "oracle = QuantumCircuit(2, name='Oracle')\n",
    "oracle.cz(0,1)\n",
    "oracle.draw(output='mpl')"
   ]
  },
  {
   "cell_type": "code",
   "execution_count": 7,
   "id": "7752ddf1",
   "metadata": {},
   "outputs": [
    {
     "data": {
      "image/png": "[encoded data removed]",
      "text/plain": [
       "<Figure size 267.052x204.68 with 1 Axes>"
      ]
     },
     "execution_count": 7,
     "metadata": {},
     "output_type": "execute_result"
    }
   ],
   "source": [
    "#Check that this does was you want\n",
    "#Prepare state S with a hadamard\n",
    "backend = Aer.get_backend('statevector_simulator')\n",
    "grover_cirq = QuantumCircuit(2,2)\n",
    "grover_cirq.h([0,1])\n",
    "grover_cirq.append(oracle,[0,1])\n",
    "grover_cirq.draw(output='mpl')"
   ]
  },
  {
   "cell_type": "code",
   "execution_count": 10,
   "id": "d27f2f1e",
   "metadata": {},
   "outputs": [
    {
     "data": {
      "text/plain": [
       "array([ 0.5+0.j,  0.5+0.j,  0.5+0.j, -0.5+0.j])"
      ]
     },
     "execution_count": 10,
     "metadata": {},
     "output_type": "execute_result"
    }
   ],
   "source": [
    "job = execute(grover_cirq, backend)\n",
    "result = job.result()\n",
    "sv = result.get_statevector()\n",
    "np.around(sv,2)\n",
    "#Flipped the |11> state!"
   ]
  },
  {
   "cell_type": "code",
   "execution_count": 12,
   "id": "ab8da5ca",
   "metadata": {},
   "outputs": [
    {
     "data": {
      "image/png": "[encoded data removed]",
      "text/plain": [
       "<Figure size 327.252x144.48 with 1 Axes>"
      ]
     },
     "execution_count": 12,
     "metadata": {},
     "output_type": "execute_result"
    }
   ],
   "source": [
    "#Need amplitude amplification because the negative amp of the winner doesn't show up in measurements \n",
    "#One way to think of reflection operator is applying negative phase to\n",
    "#every state that is orthogonal to the given reflecting state\n",
    "reflection = QuantumCircuit(2, name='Reflection')\n",
    "reflection.h([0,1])\n",
    "reflection.z([0,1])\n",
    "reflection.cz(0,1)\n",
    "reflection.h([0,1])\n",
    "reflection.to_gate()\n",
    "reflection.draw(output='mpl')"
   ]
  },
  {
   "cell_type": "code",
   "execution_count": 23,
   "id": "afb8b21c",
   "metadata": {},
   "outputs": [
    {
     "data": {
      "image/png": "[encoded data removed]",
      "text/plain": [
       "<Figure size 507.852x204.68 with 1 Axes>"
      ]
     },
     "execution_count": 23,
     "metadata": {},
     "output_type": "execute_result"
    }
   ],
   "source": [
    "backend = Aer.get_backend('statevector_simulator')\n",
    "grover_cirq = QuantumCircuit(2,2)\n",
    "grover_cirq.h([0,1])\n",
    "grover_cirq.append(oracle,[0,1])\n",
    "grover_cirq.append(reflection,[0,1])\n",
    "grover_cirq.measure([0,1],[0,1])\n",
    "grover_cirq.draw(output='mpl')"
   ]
  },
  {
   "cell_type": "code",
   "execution_count": 22,
   "id": "c3bf5779",
   "metadata": {},
   "outputs": [
    {
     "data": {
      "text/plain": [
       "{'11': 1}"
      ]
     },
     "execution_count": 22,
     "metadata": {},
     "output_type": "execute_result"
    }
   ],
   "source": [
    "job=execute(grover_cirq,backend,shots=1)\n",
    "result = job.result()\n",
    "result.get_counts()"
   ]
  },
  {
   "cell_type": "code",
   "execution_count": 24,
   "id": "6a6304c0",
   "metadata": {},
   "outputs": [],
   "source": [
    "#Sudoku Problem Next\n"
   ]
  },
  {
   "cell_type": "code",
   "execution_count": null,
   "id": "4a21635f",
   "metadata": {},
   "outputs": [],
   "source": []
  }
 ],
 "metadata": {
  "kernelspec": {
   "display_name": "Python 3",
   "language": "python",
   "name": "python3"
  },
  "language_info": {
   "codemirror_mode": {
    "name": "ipython",
    "version": 3
   },
   "file_extension": ".py",
   "mimetype": "text/x-python",
   "name": "python",
   "nbconvert_exporter": "python",
   "pygments_lexer": "ipython3",
   "version": "3.8.8"
  }
 },
 "nbformat": 4,
 "nbformat_minor": 5
}
